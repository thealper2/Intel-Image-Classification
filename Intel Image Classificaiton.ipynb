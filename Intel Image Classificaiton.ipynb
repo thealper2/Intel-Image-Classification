{
 "cells": [
  {
   "cell_type": "code",
   "execution_count": 8,
   "id": "addadcad",
   "metadata": {},
   "outputs": [],
   "source": [
    "import numpy as np\n",
    "import pandas as pd\n",
    "import matplotlib.pyplot as plt\n",
    "import os\n",
    "from os import listdir\n",
    "from os.path import isfile, join\n",
    "from sklearn.preprocessing import LabelBinarizer\n",
    "from keras.preprocessing import image\n",
    "from tensorflow.keras.utils import img_to_array, array_to_img\n",
    "from keras.optimizers import Adam\n",
    "from PIL import Image\n",
    "from keras.models import Sequential\n",
    "from keras.layers import BatchNormalization\n",
    "from keras.layers import Conv2D, MaxPooling2D, Activation, Flatten, Dropout, Dense, LeakyReLU\n",
    "from sklearn.model_selection import train_test_split\n",
    "import pickle"
   ]
  },
  {
   "cell_type": "code",
   "execution_count": 11,
   "id": "7bb03dd2",
   "metadata": {},
   "outputs": [],
   "source": [
    "root_dir = \"seg_train/seg_train\"\n",
    "image_list = []\n",
    "label_list = []\n",
    "\n",
    "for directory in os.listdir(root_dir):\n",
    "    directory_path = join(root_dir, directory)\n",
    "    if os.path.isdir(directory_path):\n",
    "        for file_name in os.listdir(directory_path):\n",
    "            file_path = join(directory_path, file_name)\n",
    "            if isfile(file_path):\n",
    "                image = Image.open(file_path)\n",
    "                image = image.resize((150, 150))\n",
    "                image = img_to_array(image)\n",
    "                image_list.append(image)\n",
    "                label_list.append(directory)"
   ]
  },
  {
   "cell_type": "code",
   "execution_count": 12,
   "id": "b3c50df7",
   "metadata": {},
   "outputs": [
    {
     "data": {
      "text/plain": [
       "mountain     2512\n",
       "glacier      2404\n",
       "street       2382\n",
       "sea          2274\n",
       "forest       2271\n",
       "buildings    2191\n",
       "dtype: int64"
      ]
     },
     "execution_count": 12,
     "metadata": {},
     "output_type": "execute_result"
    }
   ],
   "source": [
    "df_labels = pd.DataFrame(label_list).value_counts()\n",
    "df_labels"
   ]
  },
  {
   "cell_type": "code",
   "execution_count": 13,
   "id": "4dba4ac0",
   "metadata": {},
   "outputs": [
    {
     "data": {
      "text/plain": [
       "(14034, 150, 150, 3)"
      ]
     },
     "execution_count": 13,
     "metadata": {},
     "output_type": "execute_result"
    }
   ],
   "source": [
    "np.array(image_list).shape"
   ]
  },
  {
   "cell_type": "code",
   "execution_count": 14,
   "id": "7cf0c46e",
   "metadata": {},
   "outputs": [],
   "source": [
    "X_train, X_test, y_train, y_test = train_test_split(image_list, label_list, test_size=0.2, random_state=4242) "
   ]
  },
  {
   "cell_type": "code",
   "execution_count": 15,
   "id": "851a3119",
   "metadata": {},
   "outputs": [],
   "source": [
    "# Normalization\n",
    "X_train = np.array(X_train, dtype=np.float16) / 225.0\n",
    "X_test = np.array(X_test, dtype=np.float16) / 225.0"
   ]
  },
  {
   "cell_type": "code",
   "execution_count": 16,
   "id": "48f4a299",
   "metadata": {},
   "outputs": [
    {
     "name": "stdout",
     "output_type": "stream",
     "text": [
      "['buildings' 'forest' 'glacier' 'mountain' 'sea' 'street']\n"
     ]
    }
   ],
   "source": [
    "lb = LabelBinarizer()\n",
    "y_train = lb.fit_transform(y_train)\n",
    "y_test = lb.fit_transform(y_test)\n",
    "print(lb.classes_)"
   ]
  },
  {
   "cell_type": "code",
   "execution_count": 17,
   "id": "a0d87b0e",
   "metadata": {},
   "outputs": [],
   "source": [
    "pickle.dump(lb, open(\"lb.pkl\", \"wb\"))"
   ]
  },
  {
   "cell_type": "code",
   "execution_count": 18,
   "id": "b657b2a1",
   "metadata": {},
   "outputs": [],
   "source": [
    "X_train, X_valid, y_train, y_valid = train_test_split(X_train, y_train, test_size=0.2)"
   ]
  },
  {
   "cell_type": "code",
   "execution_count": 19,
   "id": "cf8f5721",
   "metadata": {},
   "outputs": [],
   "source": [
    "model = Sequential([\n",
    "    Conv2D(16, kernel_size=(3,3), input_shape=(150, 150, 3)),\n",
    "    BatchNormalization(),\n",
    "    LeakyReLU(),\n",
    "    \n",
    "    Conv2D(32, kernel_size=(3,3)),\n",
    "    BatchNormalization(),\n",
    "    LeakyReLU(),\n",
    "    MaxPooling2D(5,5),\n",
    "    \n",
    "    Flatten(),\n",
    "    \n",
    "    Dense(32),\n",
    "    Dropout(rate=0.2),\n",
    "    BatchNormalization(),\n",
    "    LeakyReLU(),\n",
    "    \n",
    "    Dense(16),\n",
    "    Dropout(rate=0.2),\n",
    "    BatchNormalization(),\n",
    "    LeakyReLU(1),\n",
    "    \n",
    "    Dense(6, activation=\"softmax\")\n",
    "])"
   ]
  },
  {
   "cell_type": "code",
   "execution_count": 20,
   "id": "bda371c9",
   "metadata": {},
   "outputs": [
    {
     "name": "stdout",
     "output_type": "stream",
     "text": [
      "Model: \"sequential_1\"\n",
      "_________________________________________________________________\n",
      " Layer (type)                Output Shape              Param #   \n",
      "=================================================================\n",
      " conv2d_2 (Conv2D)           (None, 148, 148, 16)      448       \n",
      "                                                                 \n",
      " batch_normalization_4 (Batc  (None, 148, 148, 16)     64        \n",
      " hNormalization)                                                 \n",
      "                                                                 \n",
      " leaky_re_lu_4 (LeakyReLU)   (None, 148, 148, 16)      0         \n",
      "                                                                 \n",
      " conv2d_3 (Conv2D)           (None, 146, 146, 32)      4640      \n",
      "                                                                 \n",
      " batch_normalization_5 (Batc  (None, 146, 146, 32)     128       \n",
      " hNormalization)                                                 \n",
      "                                                                 \n",
      " leaky_re_lu_5 (LeakyReLU)   (None, 146, 146, 32)      0         \n",
      "                                                                 \n",
      " max_pooling2d_1 (MaxPooling  (None, 29, 29, 32)       0         \n",
      " 2D)                                                             \n",
      "                                                                 \n",
      " flatten_1 (Flatten)         (None, 26912)             0         \n",
      "                                                                 \n",
      " dense_3 (Dense)             (None, 32)                861216    \n",
      "                                                                 \n",
      " dropout_2 (Dropout)         (None, 32)                0         \n",
      "                                                                 \n",
      " batch_normalization_6 (Batc  (None, 32)               128       \n",
      " hNormalization)                                                 \n",
      "                                                                 \n",
      " leaky_re_lu_6 (LeakyReLU)   (None, 32)                0         \n",
      "                                                                 \n",
      " dense_4 (Dense)             (None, 16)                528       \n",
      "                                                                 \n",
      " dropout_3 (Dropout)         (None, 16)                0         \n",
      "                                                                 \n",
      " batch_normalization_7 (Batc  (None, 16)               64        \n",
      " hNormalization)                                                 \n",
      "                                                                 \n",
      " leaky_re_lu_7 (LeakyReLU)   (None, 16)                0         \n",
      "                                                                 \n",
      " dense_5 (Dense)             (None, 6)                 102       \n",
      "                                                                 \n",
      "=================================================================\n",
      "Total params: 867,318\n",
      "Trainable params: 867,126\n",
      "Non-trainable params: 192\n",
      "_________________________________________________________________\n"
     ]
    }
   ],
   "source": [
    "model.summary()"
   ]
  },
  {
   "cell_type": "code",
   "execution_count": 21,
   "id": "69033d22",
   "metadata": {},
   "outputs": [],
   "source": [
    "model.compile(loss=\"categorical_crossentropy\", optimizer=Adam(0.0005), metrics=[\"accuracy\"])"
   ]
  },
  {
   "cell_type": "code",
   "execution_count": 22,
   "id": "c08d66d0",
   "metadata": {},
   "outputs": [
    {
     "name": "stdout",
     "output_type": "stream",
     "text": [
      "Epoch 1/10\n",
      "71/71 [==============================] - 91s 1s/step - loss: 1.2414 - accuracy: 0.5332 - val_loss: 1.9459 - val_accuracy: 0.1563\n",
      "Epoch 2/10\n",
      "71/71 [==============================] - 88s 1s/step - loss: 0.9234 - accuracy: 0.6782 - val_loss: 2.1873 - val_accuracy: 0.1558\n",
      "Epoch 3/10\n",
      "71/71 [==============================] - 88s 1s/step - loss: 0.7711 - accuracy: 0.7415 - val_loss: 1.8476 - val_accuracy: 0.1812\n",
      "Epoch 4/10\n",
      "71/71 [==============================] - 87s 1s/step - loss: 0.6806 - accuracy: 0.7747 - val_loss: 1.4084 - val_accuracy: 0.4506\n",
      "Epoch 5/10\n",
      "71/71 [==============================] - 101s 1s/step - loss: 0.6055 - accuracy: 0.7970 - val_loss: 1.1831 - val_accuracy: 0.5419\n",
      "Epoch 6/10\n",
      "71/71 [==============================] - 94s 1s/step - loss: 0.5396 - accuracy: 0.8260 - val_loss: 0.8685 - val_accuracy: 0.6906\n",
      "Epoch 7/10\n",
      "71/71 [==============================] - 94s 1s/step - loss: 0.4741 - accuracy: 0.8535 - val_loss: 0.7553 - val_accuracy: 0.7324\n",
      "Epoch 8/10\n",
      "71/71 [==============================] - 99s 1s/step - loss: 0.4298 - accuracy: 0.8627 - val_loss: 0.7093 - val_accuracy: 0.7435\n",
      "Epoch 9/10\n",
      "71/71 [==============================] - 106s 1s/step - loss: 0.4033 - accuracy: 0.8716 - val_loss: 0.6474 - val_accuracy: 0.7734\n",
      "Epoch 10/10\n",
      "71/71 [==============================] - 103s 1s/step - loss: 0.3350 - accuracy: 0.8999 - val_loss: 0.7280 - val_accuracy: 0.7418\n"
     ]
    }
   ],
   "source": [
    "history = model.fit(X_train, y_train, batch_size=128, epochs=10, validation_data=(X_valid, y_valid))"
   ]
  },
  {
   "cell_type": "code",
   "execution_count": 23,
   "id": "649e8ab6",
   "metadata": {},
   "outputs": [],
   "source": [
    "model.save(\"intel_image.h5\")"
   ]
  },
  {
   "cell_type": "code",
   "execution_count": 24,
   "id": "3e64b74f",
   "metadata": {},
   "outputs": [
    {
     "data": {
      "image/png": "[encoded data removed]",
      "text/plain": [
       "<Figure size 640x480 with 1 Axes>"
      ]
     },
     "metadata": {},
     "output_type": "display_data"
    }
   ],
   "source": [
    "plt.figure()\n",
    "plt.plot(history.history[\"accuracy\"])\n",
    "plt.plot(history.history[\"val_accuracy\"])\n",
    "plt.title(\"Model Accuracy\")\n",
    "plt.ylabel(\"Accuracy\")\n",
    "plt.xlabel(\"Epochs\")\n",
    "plt.legend([\"train\", \"val\"])\n",
    "plt.show()"
   ]
  },
  {
   "cell_type": "code",
   "execution_count": 25,
   "id": "c95ec3e4",
   "metadata": {},
   "outputs": [
    {
     "data": {
      "image/png": "[encoded data removed]",
      "text/plain": [
       "<Figure size 640x480 with 1 Axes>"
      ]
     },
     "metadata": {},
     "output_type": "display_data"
    }
   ],
   "source": [
    "plt.figure()\n",
    "plt.plot(history.history[\"loss\"])\n",
    "plt.plot(history.history[\"val_loss\"])\n",
    "plt.title(\"Model Loss\")\n",
    "plt.ylabel(\"Loss\")\n",
    "plt.xlabel(\"Epochs\")\n",
    "plt.show()"
   ]
  },
  {
   "cell_type": "code",
   "execution_count": 26,
   "id": "dd2a0cb5",
   "metadata": {},
   "outputs": [
    {
     "name": "stdout",
     "output_type": "stream",
     "text": [
      "88/88 [==============================] - 11s 123ms/step - loss: 0.7623 - accuracy: 0.7186\n",
      "Test Accuracy: 71.85607552528381\n"
     ]
    }
   ],
   "source": [
    "scores = model.evaluate(X_test, y_test)\n",
    "acc = scores[1] * 100\n",
    "print(\"Test Accuracy:\", acc)"
   ]
  },
  {
   "cell_type": "code",
   "execution_count": 27,
   "id": "f3042b18",
   "metadata": {},
   "outputs": [
    {
     "name": "stdout",
     "output_type": "stream",
     "text": [
      "88/88 [==============================] - 11s 120ms/step\n"
     ]
    }
   ],
   "source": [
    "y_pred = model.predict(X_test)"
   ]
  },
  {
   "cell_type": "code",
   "execution_count": 28,
   "id": "511a8b03",
   "metadata": {},
   "outputs": [
    {
     "name": "stdout",
     "output_type": "stream",
     "text": [
      "Originally :  buildings\n",
      "Predicted :  buildings\n"
     ]
    }
   ],
   "source": [
    "labels = lb.classes_\n",
    "print(\"Originally : \",labels[np.argmax(y_test[44])])\n",
    "print(\"Predicted : \",labels[np.argmax(y_pred[44])])"
   ]
  },
  {
   "cell_type": "code",
   "execution_count": 29,
   "id": "3193c813",
   "metadata": {},
   "outputs": [
    {
     "name": "stdout",
     "output_type": "stream",
     "text": [
      "80 %\n"
     ]
    }
   ],
   "source": [
    "count = 0\n",
    "for i in range(1, 100):\n",
    "    if labels[np.argmax(y_test[i])] == labels[np.argmax(y_pred[i])]:\n",
    "        count += 1\n",
    "        \n",
    "print(count , \"%\")"
   ]
  },
  {
   "cell_type": "code",
   "execution_count": null,
   "id": "a01bf5eb",
   "metadata": {},
   "outputs": [],
   "source": []
  }
 ],
 "metadata": {
  "kernelspec": {
   "display_name": "Python 3 (ipykernel)",
   "language": "python",
   "name": "python3"
  },
  "language_info": {
   "codemirror_mode": {
    "name": "ipython",
    "version": 3
   },
   "file_extension": ".py",
   "mimetype": "text/x-python",
   "name": "python",
   "nbconvert_exporter": "python",
   "pygments_lexer": "ipython3",
   "version": "3.11.2"
  }
 },
 "nbformat": 4,
 "nbformat_minor": 5
}
